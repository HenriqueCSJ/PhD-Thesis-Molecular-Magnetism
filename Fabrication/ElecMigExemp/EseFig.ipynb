{
 "metadata": {
  "name": "EseFig"
 }, 
 "nbformat": 2, 
 "worksheets": [
  {
   "cells": [
    {
     "cell_type": "code", 
     "collapsed": true, 
     "input": [
      "import matplotlib.image as mpimg #pour les images", 
      "from matplotlib.patches import Polygon, Circle", 
      "from matplotlib.offsetbox import TextArea, DrawingArea, OffsetImage, AnnotationBbox"
     ], 
     "language": "python", 
     "outputs": [], 
     "prompt_number": 2
    }, 
    {
     "cell_type": "code", 
     "collapsed": false, 
     "input": [
      "Mesure = mpimg.imread(\"/home/hukadan/These/Manuscript/Fabrication/ElecMigExemp/EseImag.png\")", 
      "Mesure = Mesure.tolist()", 
      "Mesure.reverse()", 
      "fig = figure(figsize=(6,4.8))", 
      "ax1 = fig.add_subplot(111)", 
      "im = ax1.imshow(Mesure)", 
      "#ax1.set_xlim(50,950)", 
      "ax1.set_axis_off()", 
      "", 
      "", 
      "fig.subplots_adjust(top=1, bottom=0, left=0, right=1)", 
      "fig.savefig(\"/home/hukadan/These/Manuscript/Fabrication/ElecMigExemp/EseFig.pdf\", dpi=600)"
     ], 
     "language": "python", 
     "outputs": [
      {
       "output_type": "display_data", 
       "png": "[encoded data removed]"
      }
     ], 
     "prompt_number": 3
    }, 
    {
     "cell_type": "code", 
     "collapsed": true, 
     "input": [], 
     "language": "python", 
     "outputs": []
    }
   ]
  }
 ]
}