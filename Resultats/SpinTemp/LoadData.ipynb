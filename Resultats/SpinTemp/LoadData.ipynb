{
 "metadata": {
  "name": "LoadData"
 }, 
 "nbformat": 2, 
 "worksheets": [
  {
   "cells": [
    {
     "cell_type": "code", 
     "collapsed": true, 
     "input": [
      "sys.path.append(\"/home/hukadan/These/\")", 
      "from setproc.cycle_process.classes.cycle_process import CycleProcess", 
      "from setproc.common.functions.local_extrema import local_extrema", 
      "import os"
     ], 
     "language": "python", 
     "outputs": [], 
     "prompt_number": 1
    }, 
    {
     "cell_type": "code", 
     "collapsed": false, 
     "input": [
      "os.chdir(\"/media/Iomega_HDD/Measures/Tb2C/sample3/6R/J9/Cycle/Second_Dege/second_VG/Cycle1/\");", 
      "#Cyc1 = CycleProcess(\"G_B_trace.json\",\"G_B_retrace.json\",[0,1,2,3,4,5,6,7,8,9],\"Json\");", 
      "Cyc1 = CycleProcess(\"Cyc1fig.bin\")", 
      "Cyc1.LoadSweeps()"
     ], 
     "language": "python", 
     "outputs": [
      {
       "output_type": "stream", 
       "stream": "stdout", 
       "text": [
        "Sanity checks", 
        "* Trace", 
        "\tPerfect matching", 
        "* Retrace", 
        "\tPerfect matching"
       ]
      }
     ], 
     "prompt_number": 2
    }, 
    {
     "cell_type": "code", 
     "collapsed": false, 
     "input": [
      "#Cyc1.GetStat(150,4)", 
      "Cyc1.GetValueStat()"
     ], 
     "language": "python", 
     "outputs": [
      {
       "output_type": "pyout", 
       "prompt_number": 3, 
       "text": [
        "True"
       ]
      }, 
      {
       "output_type": "display_data", 
       "png": "[encoded data removed]"
      }, 
      {
       "output_type": "display_data", 
       "png": "[encoded data removed]"
      }
     ], 
     "prompt_number": 3
    }, 
    {
     "cell_type": "code", 
     "collapsed": true, 
     "input": [
      "Cyc1.SetPlotCalibration([10**-32,10**-28,[-0.085,0.085],-0.019])", 
      "#Cyc1.SaveAll(\"tracefigure\",\"retracefigure\",\"Cyc1fig.bin\")"
     ], 
     "language": "python", 
     "outputs": [], 
     "prompt_number": 4
    }, 
    {
     "cell_type": "code", 
     "collapsed": false, 
     "input": [
      "os.chdir(\"/media/Iomega_HDD/Measures/Tb2C/sample3/6R/J9/Cycle/Second_Dege/second_VG/Cycle2/\");", 
      "#Cyc2 = CycleProcess(\"G_B_trace.json\",\"G_B_retrace.json\",[0,1,2,3,4,5,6,7,8,9,10],\"Json\");", 
      "Cyc2 = CycleProcess(\"Cyc2fig.bin\")", 
      "Cyc2.LoadSweeps()"
     ], 
     "language": "python", 
     "outputs": [
      {
       "output_type": "stream", 
       "stream": "stdout", 
       "text": [
        "Sanity checks", 
        "* Trace", 
        "\tPerfect matching", 
        "* Retrace", 
        "\tPerfect matching"
       ]
      }
     ], 
     "prompt_number": 5
    }, 
    {
     "cell_type": "code", 
     "collapsed": false, 
     "input": [
      "Cyc2.GetStat(150,4)", 
      "Cyc2.GetValueStat()"
     ], 
     "language": "python", 
     "outputs": [
      {
       "output_type": "stream", 
       "stream": "stdout", 
       "text": [
        "In classic mode", 
        "In classic mode", 
        "9%"
       ]
      }, 
      {
       "output_type": "stream", 
       "stream": "stdout", 
       "text": [
        "", 
        "18%"
       ]
      }, 
      {
       "output_type": "stream", 
       "stream": "stdout", 
       "text": [
        "", 
        "27%"
       ]
      }, 
      {
       "output_type": "stream", 
       "stream": "stdout", 
       "text": [
        "", 
        "36%"
       ]
      }, 
      {
       "output_type": "stream", 
       "stream": "stdout", 
       "text": [
        "", 
        "45%"
       ]
      }, 
      {
       "output_type": "stream", 
       "stream": "stdout", 
       "text": [
        "", 
        "54%"
       ]
      }, 
      {
       "output_type": "stream", 
       "stream": "stdout", 
       "text": [
        "", 
        "63%"
       ]
      }, 
      {
       "output_type": "stream", 
       "stream": "stdout", 
       "text": [
        "", 
        "72%"
       ]
      }, 
      {
       "output_type": "stream", 
       "stream": "stdout", 
       "text": [
        "", 
        "81%"
       ]
      }, 
      {
       "output_type": "stream", 
       "stream": "stdout", 
       "text": [
        "", 
        "90%"
       ]
      }, 
      {
       "output_type": "stream", 
       "stream": "stdout", 
       "text": [
        ""
       ]
      }, 
      {
       "output_type": "pyout", 
       "prompt_number": 6, 
       "text": [
        "True"
       ]
      }, 
      {
       "output_type": "display_data", 
       "png": "[encoded data removed]"
      }, 
      {
       "output_type": "display_data", 
       "png": "[encoded data removed]"
      }
     ], 
     "prompt_number": 6
    }, 
    {
     "cell_type": "code", 
     "collapsed": true, 
     "input": [
      "Cyc2.SetPlotCalibration([10**-32,10**-28,[-0.085,0.085],-0.019])", 
      "#Cyc2.SaveAll(\"tracefigure\",\"retracefigure\",\"Cyc2fig.bin\")"
     ], 
     "language": "python", 
     "outputs": [], 
     "prompt_number": 7
    }, 
    {
     "cell_type": "code", 
     "collapsed": false, 
     "input": [
      "os.chdir(\"/media/Iomega_HDD/Measures/Tb2C/sample3/6R/J9/Cycle/Second_Dege/second_VG/Cycle3/\");", 
      "#Cyc3 = CycleProcess(\"G_B_trace.json\",\"G_B_retrace.json\",[0,1,2,3,4,5,6,7,8,9],\"Json\");", 
      "Cyc3 = CycleProcess(\"Cyc3fig.bin\")", 
      "Cyc3.LoadSweeps()"
     ], 
     "language": "python", 
     "outputs": [
      {
       "output_type": "stream", 
       "stream": "stdout", 
       "text": [
        "Sanity checks", 
        "* Trace", 
        "\tPerfect matching", 
        "* Retrace", 
        "\tPerfect matching"
       ]
      }
     ], 
     "prompt_number": 8
    }, 
    {
     "cell_type": "code", 
     "collapsed": false, 
     "input": [
      "#Cyc3.GetStat(150,4)", 
      "Cyc3.GetValueStat()"
     ], 
     "language": "python", 
     "outputs": [
      {
       "output_type": "pyout", 
       "prompt_number": 9, 
       "text": [
        "True"
       ]
      }, 
      {
       "output_type": "display_data", 
       "png": "[encoded data removed]"
      }, 
      {
       "output_type": "display_data", 
       "png": "[encoded data removed]"
      }
     ], 
     "prompt_number": 9
    }, 
    {
     "cell_type": "code", 
     "collapsed": true, 
     "input": [
      "Cyc3.SetPlotCalibration([10**-32,10**-28,[-0.085,0.085],-0.019])", 
      "#Cyc3.SaveAll(\"tracefigure\",\"retracefigure\",\"Cyc3fig.bin\")"
     ], 
     "language": "python", 
     "outputs": [], 
     "prompt_number": 10
    }, 
    {
     "cell_type": "code", 
     "collapsed": false, 
     "input": [
      "os.chdir(\"/media/Iomega_HDD/Measures/Tb2C/sample3/6R/J9/Cycle/Second_Dege/second_VG/Cycle4/\");", 
      "#Cyc4 = CycleProcess(\"G_B_trace.json\",\"G_B_retrace.json\",[0,1,2,3,4,5,6,7,8,9,10],\"Json\");", 
      "Cyc4 = CycleProcess(\"Cyc4fig.bin\")", 
      "Cyc4.LoadSweeps()"
     ], 
     "language": "python", 
     "outputs": [
      {
       "output_type": "stream", 
       "stream": "stdout", 
       "text": [
        "Loading  0G_B_trace.json  file. Please wait..", 
        "\tPerfect matching"
       ]
      }, 
      {
       "output_type": "stream", 
       "stream": "stdout", 
       "text": [
        "", 
        "Loading  1G_B_trace.json  file. Please wait..", 
        "\tPerfect matching"
       ]
      }, 
      {
       "output_type": "stream", 
       "stream": "stdout", 
       "text": [
        "", 
        "Loading  2G_B_trace.json  file. Please wait..", 
        "\tPerfect matching"
       ]
      }, 
      {
       "output_type": "stream", 
       "stream": "stdout", 
       "text": [
        "", 
        "Loading  3G_B_trace.json  file. Please wait..", 
        "\tPerfect matching"
       ]
      }, 
      {
       "output_type": "stream", 
       "stream": "stdout", 
       "text": [
        "", 
        "Loading  4G_B_trace.json  file. Please wait..", 
        "\tPerfect matching"
       ]
      }, 
      {
       "output_type": "stream", 
       "stream": "stdout", 
       "text": [
        "", 
        "Loading  5G_B_trace.json  file. Please wait..", 
        "\tPerfect matching"
       ]
      }, 
      {
       "output_type": "stream", 
       "stream": "stdout", 
       "text": [
        "", 
        "Loading  6G_B_trace.json  file. Please wait..", 
        "\tPerfect matching"
       ]
      }, 
      {
       "output_type": "stream", 
       "stream": "stdout", 
       "text": [
        "", 
        "Loading  7G_B_trace.json  file. Please wait..", 
        "\tThe maximum difference is "
       ]
      }, 
      {
       "output_type": "stream", 
       "stream": "stdout", 
       "text": [
        " 1  points with the sweep  999", 
        "Loading  8G_B_trace.json  file. Please wait..", 
        "\tPerfect matching"
       ]
      }, 
      {
       "output_type": "stream", 
       "stream": "stdout", 
       "text": [
        "", 
        "Loading  9G_B_trace.json  file. Please wait..", 
        "\tPerfect matching"
       ]
      }, 
      {
       "output_type": "stream", 
       "stream": "stdout", 
       "text": [
        "", 
        "Loading  10G_B_trace.json  file. Please wait..", 
        "\tPerfect matching"
       ]
      }, 
      {
       "output_type": "stream", 
       "stream": "stdout", 
       "text": [
        "", 
        "Merging....", 
        "Loading "
       ]
      }, 
      {
       "output_type": "stream", 
       "stream": "stdout", 
       "text": [
        " 0G_B_retrace.json  file. Please wait..", 
        "\tPerfect matching"
       ]
      }, 
      {
       "output_type": "stream", 
       "stream": "stdout", 
       "text": [
        "", 
        "Loading  1G_B_retrace.json  file. Please wait..", 
        "\tPerfect matching"
       ]
      }, 
      {
       "output_type": "stream", 
       "stream": "stdout", 
       "text": [
        "", 
        "Loading  2G_B_retrace.json  file. Please wait..", 
        "\tPerfect matching"
       ]
      }, 
      {
       "output_type": "stream", 
       "stream": "stdout", 
       "text": [
        "", 
        "Loading  3G_B_retrace.json  file. Please wait..", 
        "\tPerfect matching"
       ]
      }, 
      {
       "output_type": "stream", 
       "stream": "stdout", 
       "text": [
        "", 
        "Loading  4G_B_retrace.json  file. Please wait..", 
        "\tPerfect matching"
       ]
      }, 
      {
       "output_type": "stream", 
       "stream": "stdout", 
       "text": [
        "", 
        "Loading  5G_B_retrace.json  file. Please wait..", 
        "\tPerfect matching"
       ]
      }, 
      {
       "output_type": "stream", 
       "stream": "stdout", 
       "text": [
        "", 
        "Loading  6G_B_retrace.json  file. Please wait..", 
        "\tPerfect matching"
       ]
      }, 
      {
       "output_type": "stream", 
       "stream": "stdout", 
       "text": [
        "", 
        "Loading  7G_B_retrace.json  file. Please wait..", 
        "\tPerfect matching"
       ]
      }, 
      {
       "output_type": "stream", 
       "stream": "stdout", 
       "text": [
        "", 
        "Loading  8G_B_retrace.json  file. Please wait..", 
        "\tPerfect matching"
       ]
      }, 
      {
       "output_type": "stream", 
       "stream": "stdout", 
       "text": [
        "", 
        "Loading  9G_B_retrace.json  file. Please wait..", 
        "\tPerfect matching"
       ]
      }, 
      {
       "output_type": "stream", 
       "stream": "stdout", 
       "text": [
        "", 
        "Loading  10G_B_retrace.json  file. Please wait..", 
        "\tPerfect matching"
       ]
      }, 
      {
       "output_type": "stream", 
       "stream": "stdout", 
       "text": [
        "", 
        "Merging....", 
        "Finale sanity check once merged"
       ]
      }, 
      {
       "output_type": "stream", 
       "stream": "stdout", 
       "text": [
        "", 
        "trace....", 
        "\tThe maximum difference is "
       ]
      }, 
      {
       "output_type": "stream", 
       "stream": "stdout", 
       "text": [
        " 1  points with the sweep  10998", 
        "retrace...", 
        "\tThe maximum difference is "
       ]
      }, 
      {
       "output_type": "stream", 
       "stream": "stdout", 
       "text": [
        " 1  points with the sweep  10998"
       ]
      }
     ], 
     "prompt_number": 11
    }, 
    {
     "cell_type": "code", 
     "collapsed": false, 
     "input": [
      "Cyc4.GetStat(150,4)", 
      "Cyc4.GetValueStat()"
     ], 
     "language": "python", 
     "outputs": [
      {
       "output_type": "stream", 
       "stream": "stdout", 
       "text": [
        "In classic mode", 
        "In classic mode", 
        "9%"
       ]
      }, 
      {
       "output_type": "stream", 
       "stream": "stdout", 
       "text": [
        "", 
        "18%"
       ]
      }, 
      {
       "output_type": "stream", 
       "stream": "stdout", 
       "text": [
        "", 
        "27%"
       ]
      }, 
      {
       "output_type": "stream", 
       "stream": "stdout", 
       "text": [
        "", 
        "36%"
       ]
      }, 
      {
       "output_type": "stream", 
       "stream": "stdout", 
       "text": [
        "", 
        "45%"
       ]
      }, 
      {
       "output_type": "stream", 
       "stream": "stdout", 
       "text": [
        "", 
        "54%"
       ]
      }, 
      {
       "output_type": "stream", 
       "stream": "stdout", 
       "text": [
        "", 
        "63%"
       ]
      }, 
      {
       "output_type": "stream", 
       "stream": "stdout", 
       "text": [
        "", 
        "72%"
       ]
      }, 
      {
       "output_type": "stream", 
       "stream": "stdout", 
       "text": [
        "", 
        "81%"
       ]
      }, 
      {
       "output_type": "stream", 
       "stream": "stdout", 
       "text": [
        "", 
        "90%"
       ]
      }, 
      {
       "output_type": "stream", 
       "stream": "stdout", 
       "text": [
        ""
       ]
      }, 
      {
       "output_type": "pyout", 
       "prompt_number": 12, 
       "text": [
        "True"
       ]
      }, 
      {
       "output_type": "display_data", 
       "png": "[encoded data removed]"
      }, 
      {
       "output_type": "display_data", 
       "png": "[encoded data removed]"
      }
     ], 
     "prompt_number": 12
    }, 
    {
     "cell_type": "code", 
     "collapsed": true, 
     "input": [
      "Cyc4.SetPlotCalibration([10**-32,10**-28,[-0.085,0.085],-0.019])", 
      "#Cyc4.SaveAll(\"tracefigure\",\"retracefigure\",\"Cyc4fig.bin\")"
     ], 
     "language": "python", 
     "outputs": [], 
     "prompt_number": 13
    }, 
    {
     "cell_type": "code", 
     "collapsed": false, 
     "input": [
      "os.chdir(\"/media/Iomega_HDD/Measures/Tb2C/sample3/6R/J9/Cycle/Second_Dege/second_VG/Cycle5/\");", 
      "#Cyc5 = CycleProcess(\"G_B_trace.json\",\"G_B_retrace.json\",[0,1,2,3,4,5,6,7,8,9,10],\"Json\");", 
      "Cyc5 = CycleProcess(\"Cyc5fig.bin\")", 
      "Cyc5.LoadSweeps()"
     ], 
     "language": "python", 
     "outputs": [
      {
       "output_type": "stream", 
       "stream": "stdout", 
       "text": [
        "Sanity checks", 
        "* Trace", 
        "\tPerfect matching", 
        "* Retrace", 
        "\tPerfect matching"
       ]
      }
     ], 
     "prompt_number": 14
    }, 
    {
     "cell_type": "code", 
     "collapsed": false, 
     "input": [
      "#Cyc5.GetStat(150,4)", 
      "Cyc5.GetValueStat()"
     ], 
     "language": "python", 
     "outputs": [
      {
       "output_type": "pyout", 
       "prompt_number": 15, 
       "text": [
        "True"
       ]
      }, 
      {
       "output_type": "display_data", 
       "png": "[encoded data removed]"
      }, 
      {
       "output_type": "display_data", 
       "png": "[encoded data removed]"
      }
     ], 
     "prompt_number": 15
    }, 
    {
     "cell_type": "code", 
     "collapsed": true, 
     "input": [
      "Cyc5.SetPlotCalibration([10**-32,10**-28,[-0.085,0.085],-0.019])", 
      "#Cyc5.SaveAll(\"tracefigure\",\"retracefigure\",\"Cyc5fig.bin\")"
     ], 
     "language": "python", 
     "outputs": [], 
     "prompt_number": 16
    }, 
    {
     "cell_type": "code", 
     "collapsed": false, 
     "input": [
      "Cyc1.SortData()", 
      "Cyc2.SortData()", 
      "Cyc3.SortData()", 
      "Cyc4.SortData()", 
      "Cyc5.SortData()"
     ], 
     "language": "python", 
     "outputs": [
      {
       "output_type": "pyout", 
       "prompt_number": 17, 
       "text": [
        "True"
       ]
      }
     ], 
     "prompt_number": 17
    }, 
    {
     "cell_type": "code", 
     "collapsed": false, 
     "input": [
      "os.chdir(\"/media/Iomega_HDD/Measures/Tb2C/sample3/6R/J9/Cycle/Second_Dege/second_VG/etud_temp/T_200mK/Cycle1\");", 
      "#CycT200 = CycleProcess(\"G_B_trace.json\",\"G_B_retrace.json\",[0,1,2,3,4,5,6,7,8,9,10],\"Json\");", 
      "CycT200 = CycleProcess(\"CycT200fig.bin\")", 
      "CycT200.LoadSweeps()"
     ], 
     "language": "python", 
     "outputs": [
      {
       "output_type": "stream", 
       "stream": "stdout", 
       "text": [
        "Sanity checks", 
        "* Trace", 
        "\tPerfect matching", 
        "* Retrace", 
        "\tPerfect matching"
       ]
      }
     ], 
     "prompt_number": 18
    }, 
    {
     "cell_type": "code", 
     "collapsed": false, 
     "input": [
      "CycT200.GetStat(250,4)", 
      "CycT200.GetValueStat()"
     ], 
     "language": "python", 
     "outputs": [
      {
       "output_type": "stream", 
       "stream": "stdout", 
       "text": [
        "In classic mode", 
        "In classic mode", 
        "9%"
       ]
      }, 
      {
       "output_type": "stream", 
       "stream": "stdout", 
       "text": [
        "", 
        "18%"
       ]
      }, 
      {
       "output_type": "stream", 
       "stream": "stdout", 
       "text": [
        "", 
        "27%"
       ]
      }, 
      {
       "output_type": "stream", 
       "stream": "stdout", 
       "text": [
        "", 
        "36%"
       ]
      }, 
      {
       "output_type": "stream", 
       "stream": "stdout", 
       "text": [
        "", 
        "45%"
       ]
      }, 
      {
       "output_type": "stream", 
       "stream": "stdout", 
       "text": [
        "", 
        "54%"
       ]
      }, 
      {
       "output_type": "stream", 
       "stream": "stdout", 
       "text": [
        "", 
        "63%"
       ]
      }, 
      {
       "output_type": "stream", 
       "stream": "stdout", 
       "text": [
        "", 
        "72%"
       ]
      }, 
      {
       "output_type": "stream", 
       "stream": "stdout", 
       "text": [
        "", 
        "81%"
       ]
      }, 
      {
       "output_type": "stream", 
       "stream": "stdout", 
       "text": [
        "", 
        "90%"
       ]
      }, 
      {
       "output_type": "stream", 
       "stream": "stdout", 
       "text": [
        ""
       ]
      }, 
      {
       "output_type": "pyout", 
       "prompt_number": 19, 
       "text": [
        "True"
       ]
      }, 
      {
       "output_type": "display_data", 
       "png": "[encoded data removed]"
      }, 
      {
       "output_type": "display_data", 
       "png": "[encoded data removed]"
      }
     ], 
     "prompt_number": 19
    }, 
    {
     "cell_type": "code", 
     "collapsed": true, 
     "input": [
      "CycT200.SetPlotCalibration([10**-32,10**-28,[-0.085,0.085],-0.019])", 
      "CycT200.SaveAll(\"tracefigure\",\"retracefigure\",\"CycT200fig.bin\")"
     ], 
     "language": "python", 
     "outputs": [], 
     "prompt_number": 20
    }, 
    {
     "cell_type": "code", 
     "collapsed": false, 
     "input": [
      "os.chdir(\"/media/Iomega_HDD/Measures/Tb2C/sample3/6R/J9/Cycle/Second_Dege/second_VG/etud_temp/T_300mK/Cycle1\");", 
      "#CycT300 = CycleProcess(\"G_B_trace.json\",\"G_B_retrace.json\",[0,1,2,3,4,5,6,7,8,9,10],\"Json\");", 
      "CycT300 = CycleProcess(\"CycT300fig.bin\")", 
      "CycT300.LoadSweeps()"
     ], 
     "language": "python", 
     "outputs": [
      {
       "output_type": "stream", 
       "stream": "stdout", 
       "text": [
        "Sanity checks", 
        "* Trace", 
        "\tPerfect matching", 
        "* Retrace", 
        "\tPerfect matching"
       ]
      }
     ], 
     "prompt_number": 21
    }, 
    {
     "cell_type": "code", 
     "collapsed": false, 
     "input": [
      "CycT300.GetStat(250,4)", 
      "CycT300.GetValueStat()"
     ], 
     "language": "python", 
     "outputs": [
      {
       "output_type": "stream", 
       "stream": "stdout", 
       "text": [
        "In classic mode", 
        "In classic mode", 
        "9%"
       ]
      }, 
      {
       "output_type": "stream", 
       "stream": "stdout", 
       "text": [
        "", 
        "18%"
       ]
      }, 
      {
       "output_type": "stream", 
       "stream": "stdout", 
       "text": [
        "", 
        "28%"
       ]
      }, 
      {
       "output_type": "stream", 
       "stream": "stdout", 
       "text": [
        "", 
        "37%"
       ]
      }, 
      {
       "output_type": "stream", 
       "stream": "stdout", 
       "text": [
        "", 
        "46%"
       ]
      }, 
      {
       "output_type": "stream", 
       "stream": "stdout", 
       "text": [
        "", 
        "56%"
       ]
      }, 
      {
       "output_type": "stream", 
       "stream": "stdout", 
       "text": [
        "", 
        "65%"
       ]
      }, 
      {
       "output_type": "stream", 
       "stream": "stdout", 
       "text": [
        "", 
        "75%"
       ]
      }, 
      {
       "output_type": "stream", 
       "stream": "stdout", 
       "text": [
        "", 
        "84%"
       ]
      }, 
      {
       "output_type": "stream", 
       "stream": "stdout", 
       "text": [
        "", 
        "93%"
       ]
      }, 
      {
       "output_type": "stream", 
       "stream": "stdout", 
       "text": [
        ""
       ]
      }, 
      {
       "output_type": "pyout", 
       "prompt_number": 22, 
       "text": [
        "True"
       ]
      }, 
      {
       "output_type": "display_data", 
       "png": "[encoded data removed]"
      }, 
      {
       "output_type": "display_data", 
       "png": "[encoded data removed]"
      }
     ], 
     "prompt_number": 22
    }, 
    {
     "cell_type": "code", 
     "collapsed": true, 
     "input": [
      "CycT300.SetPlotCalibration([10**-32,10**-28,[-0.085,0.085],-0.019])", 
      "CycT300.SaveAll(\"tracefigure\",\"retracefigure\",\"CycT300fig.bin\")"
     ], 
     "language": "python", 
     "outputs": [], 
     "prompt_number": 23
    }, 
    {
     "cell_type": "code", 
     "collapsed": false, 
     "input": [
      "os.chdir(\"/media/Iomega_HDD/Measures/Tb2C/sample3/6R/J9/Cycle/Second_Dege/second_VG/etud_temp/T_500mK/Cycle1\");", 
      "#CycT500 = CycleProcess(\"G_B_trace.json\",\"G_B_retrace.json\",[0,1,2,3,4,5,6,7,8,9,10],\"Json\");", 
      "CycT500 = CycleProcess(\"CycT500fig.bin\")", 
      "CycT500.LoadSweeps()"
     ], 
     "language": "python", 
     "outputs": [
      {
       "output_type": "stream", 
       "stream": "stdout", 
       "text": [
        "Sanity checks", 
        "* Trace", 
        "\tPerfect matching", 
        "* Retrace", 
        "\tPerfect matching"
       ]
      }
     ], 
     "prompt_number": 24
    }, 
    {
     "cell_type": "code", 
     "collapsed": false, 
     "input": [
      "CycT500.GetStat(250,4)", 
      "CycT500.GetValueStat()"
     ], 
     "language": "python", 
     "outputs": [
      {
       "output_type": "stream", 
       "stream": "stdout", 
       "text": [
        "In classic mode", 
        "In classic mode", 
        "9%"
       ]
      }, 
      {
       "output_type": "stream", 
       "stream": "stdout", 
       "text": [
        "", 
        "18%"
       ]
      }, 
      {
       "output_type": "stream", 
       "stream": "stdout", 
       "text": [
        "", 
        "27%"
       ]
      }, 
      {
       "output_type": "stream", 
       "stream": "stdout", 
       "text": [
        "", 
        "36%"
       ]
      }, 
      {
       "output_type": "stream", 
       "stream": "stdout", 
       "text": [
        "", 
        "45%"
       ]
      }, 
      {
       "output_type": "stream", 
       "stream": "stdout", 
       "text": [
        "", 
        "54%"
       ]
      }, 
      {
       "output_type": "stream", 
       "stream": "stdout", 
       "text": [
        "", 
        "63%"
       ]
      }, 
      {
       "output_type": "stream", 
       "stream": "stdout", 
       "text": [
        "", 
        "72%"
       ]
      }, 
      {
       "output_type": "stream", 
       "stream": "stdout", 
       "text": [
        "", 
        "81%"
       ]
      }, 
      {
       "output_type": "stream", 
       "stream": "stdout", 
       "text": [
        "", 
        "90%"
       ]
      }, 
      {
       "output_type": "stream", 
       "stream": "stdout", 
       "text": [
        ""
       ]
      }, 
      {
       "output_type": "pyout", 
       "prompt_number": 25, 
       "text": [
        "True"
       ]
      }, 
      {
       "output_type": "display_data", 
       "png": "[encoded data removed]"
      }, 
      {
       "output_type": "display_data", 
       "png": "[encoded data removed]"
      }
     ], 
     "prompt_number": 25
    }, 
    {
     "cell_type": "code", 
     "collapsed": true, 
     "input": [
      "CycT500.SetPlotCalibration([10**-32,10**-28,[-0.085,0.085],-0.019])", 
      "CycT500.SaveAll(\"tracefigure\",\"retracefigure\",\"CycT500fig.bin\")"
     ], 
     "language": "python", 
     "outputs": [], 
     "prompt_number": 26
    }, 
    {
     "cell_type": "code", 
     "collapsed": false, 
     "input": [
      "os.chdir(\"/media/Iomega_HDD/Measures/Tb2C/sample3/6R/J9/Cycle/Second_Dege/second_VG/etud_temp/T_700mK/Cycle1\");", 
      "#CycT700 = CycleProcess(\"G_B_trace.json\",\"G_B_retrace.json\",[0,1,2,3,4,5,6,7,8,9,10],\"Json\");", 
      "CycT700 = CycleProcess(\"CycT700fig.bin\")", 
      "CycT700.LoadSweeps()"
     ], 
     "language": "python", 
     "outputs": [
      {
       "output_type": "stream", 
       "stream": "stdout", 
       "text": [
        "Sanity checks", 
        "* Trace", 
        "\tPerfect matching", 
        "* Retrace", 
        "\tPerfect matching"
       ]
      }
     ], 
     "prompt_number": 27
    }, 
    {
     "cell_type": "code", 
     "collapsed": false, 
     "input": [
      "#CycT700.GetStat(250,4)", 
      "CycT700.GetValueStat()"
     ], 
     "language": "python", 
     "outputs": [
      {
       "output_type": "pyout", 
       "prompt_number": 28, 
       "text": [
        "True"
       ]
      }, 
      {
       "output_type": "display_data", 
       "png": "[encoded data removed]"
      }, 
      {
       "output_type": "display_data", 
       "png": "[encoded data removed]"
      }
     ], 
     "prompt_number": 28
    }, 
    {
     "cell_type": "code", 
     "collapsed": true, 
     "input": [
      "CycT700.SetPlotCalibration([10**-32,10**-28,[-0.085,0.085],-0.019])", 
      "CycT700.SaveAll(\"tracefigure\",\"retracefigure\",\"CycT700fig.bin\")"
     ], 
     "language": "python", 
     "outputs": [], 
     "prompt_number": 29
    }, 
    {
     "cell_type": "code", 
     "collapsed": false, 
     "input": [
      "CycT200.SortData()", 
      "CycT300.SortData()", 
      "CycT500.SortData()", 
      "CycT700.SortData()"
     ], 
     "language": "python", 
     "outputs": [
      {
       "output_type": "pyout", 
       "prompt_number": 30, 
       "text": [
        "True"
       ]
      }
     ], 
     "prompt_number": 30
    }, 
    {
     "cell_type": "code", 
     "collapsed": true, 
     "input": [
      "def RatioT(x):", 
      "    si = 1.0 * (size(x[\"sort\"][\"trace\"]['up']) + size(x[\"sort\"][\"trace\"]['down']))", 
      "    return size(x[\"sort\"][\"trace\"]['up'])/si , size(x[\"sort\"][\"trace\"]['down'])/si", 
      "", 
      "def RatioR(x):", 
      "    si = 1.0* (size(x[\"sort\"][\"retrace\"]['up']) + size(x[\"sort\"][\"retrace\"]['down']))", 
      "    return size(x[\"sort\"][\"retrace\"]['up'])/si , size(x[\"sort\"][\"retrace\"]['down'])/si"
     ], 
     "language": "python", 
     "outputs": [], 
     "prompt_number": 31
    }, 
    {
     "cell_type": "code", 
     "collapsed": false, 
     "input": [
      "x = Cyc5", 
      "x.SortData()", 
      "print(RatioT(x))", 
      "print(RatioR(x))"
     ], 
     "language": "python", 
     "outputs": [
      {
       "output_type": "stream", 
       "stream": "stdout", 
       "text": [
        "(0.4028746565208201, 0.5971253434791799)", 
        "(0.5899570354457573, 0.4100429645542428)"
       ]
      }
     ], 
     "prompt_number": 36
    }, 
    {
     "cell_type": "code", 
     "collapsed": false, 
     "input": [
      "Cyc4.GetTimeStat()"
     ], 
     "language": "python", 
     "outputs": [
      {
       "output_type": "pyout", 
       "prompt_number": 34, 
       "text": [
        "(array([1854, 1855,    0,    0,    0,    0,    0,    0,    0,    0,    0,", 
        "          0,    0,    0,    0,    0,    0,    0,    0,    0,    0,    0,", 
        "          0, 4277, 3012]),", 
        " array([-24.  , -23.16, -22.32, -21.48, -20.64, -19.8 , -18.96, -18.12,", 
        "       -17.28, -16.44, -15.6 , -14.76, -13.92, -13.08, -12.24, -11.4 ,", 
        "       -10.56,  -9.72,  -8.88,  -8.04,  -7.2 ,  -6.36,  -5.52,  -4.68,", 
        "        -3.84,  -3.  ]),", 
        " <a list of 25 Patch objects>)"
       ]
      }, 
      {
       "output_type": "display_data", 
       "png": "[encoded data removed]"
      }
     ], 
     "prompt_number": 34
    }, 
    {
     "cell_type": "code", 
     "collapsed": true, 
     "input": [], 
     "language": "python", 
     "outputs": []
    }
   ]
  }
 ]
}