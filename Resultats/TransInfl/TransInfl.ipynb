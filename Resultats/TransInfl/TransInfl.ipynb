{
 "metadata": {
  "name": "TransInfl"
 }, 
 "nbformat": 2, 
 "worksheets": [
  {
   "cells": [
    {
     "cell_type": "code", 
     "collapsed": false, 
     "input": [
      "sys.path.append(\"/home/hukadan/These/\")", 
      "from setproc.cycle_process.classes.cycle_process import CycleProcess", 
      "from setproc.common.functions.local_extrema import local_extrema", 
      "import os", 
      "", 
      "# <codecell>", 
      "", 
      "os.chdir(\"/media/Iomega_HDD/Measures/Tb2C/sample3/6R/J9/Cycle/Cycle37/\");", 
      "Cyc18 = CycleProcess(\"G_B_trace.json\",\"G_B_retrace.json\",[0],\"Json\");", 
      "", 
      "", 
      "os.chdir(\"/media/Iomega_HDD/Measures/Tb2C/sample3/5R/J9/Cycle17/\");", 
      "Cyc17 = CycleProcess(\"G_B_trace.json\",\"G_B_retrace.json\",[\"\"],\"Json\");"
     ], 
     "language": "python", 
     "outputs": [
      {
       "output_type": "stream", 
       "stream": "stdout", 
       "text": [
        "Loading  0G_B_trace.json  file. Please wait..", 
        "\tThe maximum difference is "
       ]
      }, 
      {
       "output_type": "stream", 
       "stream": "stdout", 
       "text": [
        " 4235  points with the sweep  798", 
        "Merging....", 
        "Loading "
       ]
      }, 
      {
       "output_type": "stream", 
       "stream": "stdout", 
       "text": [
        " 0G_B_retrace.json  file. Please wait..", 
        "\tPerfect matching"
       ]
      }, 
      {
       "output_type": "stream", 
       "stream": "stdout", 
       "text": [
        "", 
        "Merging....", 
        "Finale sanity check once merged"
       ]
      }, 
      {
       "output_type": "stream", 
       "stream": "stdout", 
       "text": [
        "", 
        "trace....", 
        "\tPerfect matching"
       ]
      }, 
      {
       "output_type": "stream", 
       "stream": "stdout", 
       "text": [
        "", 
        "retrace...", 
        "\tPerfect matching"
       ]
      }, 
      {
       "output_type": "stream", 
       "stream": "stdout", 
       "text": [
        "", 
        "Index problem loading dates", 
        "Loading "
       ]
      }, 
      {
       "output_type": "stream", 
       "stream": "stdout", 
       "text": [
        " G_B_trace.json  file. Please wait..", 
        "\tPerfect matching"
       ]
      }, 
      {
       "output_type": "stream", 
       "stream": "stdout", 
       "text": [
        "", 
        "Merging....", 
        "Loading "
       ]
      }, 
      {
       "output_type": "stream", 
       "stream": "stdout", 
       "text": [
        " G_B_retrace.json  file. Please wait..", 
        "\tPerfect matching"
       ]
      }, 
      {
       "output_type": "stream", 
       "stream": "stdout", 
       "text": [
        "", 
        "Merging....", 
        "Finale sanity check once merged"
       ]
      }, 
      {
       "output_type": "stream", 
       "stream": "stdout", 
       "text": [
        "", 
        "trace....", 
        "\tPerfect matching"
       ]
      }, 
      {
       "output_type": "stream", 
       "stream": "stdout", 
       "text": [
        "", 
        "retrace...", 
        "\tPerfect matching"
       ]
      }, 
      {
       "output_type": "stream", 
       "stream": "stdout", 
       "text": [
        ""
       ]
      }
     ], 
     "prompt_number": 20
    }, 
    {
     "cell_type": "code", 
     "collapsed": false, 
     "input": [
      "sys.path.append(\"/home/hukadan/These/\")", 
      "from setproc.cycle_process.classes.cycle_process import CycleProcess", 
      "from setproc.common.functions.local_extrema import local_extrema", 
      "os.chdir(\"/media/Iomega_HDD/Measures/Tb2C/sample3/6R/J9/Cycle/Cycle37/\");", 
      "", 
      "#Cyc37 = CycleProcess(\"G_B_trace.json\",\"G_B_retrace.json\",[0],\"Json\");", 
      "", 
      "", 
      "", 
      "fig = figure()", 
      "fig.set_size_inches(6,5)", 
      "ax1 = fig.add_subplot(111)", 
      "T = Cyc37.trace[\"data\"][2]", 
      "B = Cyc37.trace[\"bias\"]", 
      "ax1.plot(B,T)", 
      "ax1.set_xlim(-0.4,0.4)", 
      "ax1.set_ylim(8e-8,9.5e-8)", 
      "#aspect", 
      "xmin= ax1.get_xlim()", 
      "ymin= ax1.get_ylim()", 
      "a1 = 1.0 * abs((xmin[0]-xmin[1])/(ymin[0]-ymin[1]))", 
      "", 
      "", 
      "ax1.set_aspect(a1*0.8)", 
      "", 
      "", 
      "", 
      "ax1.set_xlabel(\"$B$ (T)\")", 
      "ax1.set_ylabel(r\"$g$ (nS)\")", 
      "", 
      "ax1.xaxis.set_ticks([-0.3,-0.15,0,0.15,0.3])", 
      "ax1.yaxis.set_ticks([8.5e-8,9e-8])", 
      "ax1.yaxis.set_ticklabels([85,90])", 
      "#ax2.set_ylabel(r\"$M/M_s$\")", 
      "", 
      "tr0 = Polygon([[-0.4,8e-8],[-0.25,8e-8],[-0.25,9.5e-8],[-0.4,9.5e-8]], color=\"#C0C0C0\")", 
      "ax1.add_patch(tr0)", 
      "ax1.text(0.075,9.2e-8,r\"$\\frac{\\partial G}{\\partial B} \\sim cst$\",fontsize=25,va=\"center\",ha=\"center\")", 
      "", 
      "", 
      "fig.subplots_adjust(wspace=0.05,hspace=0.025,bottom = 0.08,top=0.98,left=0.11)#, top = 0.95, bottom = 0.08)", 
      "fig.savefig(\"/home/hukadan/These/Manuscript/Resultats/TransInfl/TransInfl.pdf\",dpi=300)"
     ], 
     "language": "python", 
     "outputs": [
      {
       "output_type": "display_data", 
       "png": "[encoded data removed]"
      }
     ], 
     "prompt_number": 50
    }, 
    {
     "cell_type": "code", 
     "collapsed": true, 
     "input": [
      "ax1.text?"
     ], 
     "language": "python", 
     "outputs": []
    }, 
    {
     "cell_type": "code", 
     "collapsed": false, 
     "input": [
      "T = Cyc18.retrace[\"data\"][2]", 
      "B = Cyc18.retrace[\"bias\"]", 
      "plot(B,T)"
     ], 
     "language": "python", 
     "outputs": [
      {
       "output_type": "display_data", 
       "png": "[encoded data removed]"
      }
     ], 
     "prompt_number": 24
    }
   ]
  }
 ]
}