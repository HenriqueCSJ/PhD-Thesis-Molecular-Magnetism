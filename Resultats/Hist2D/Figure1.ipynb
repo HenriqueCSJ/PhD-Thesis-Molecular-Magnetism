{
 "metadata": {
  "name": "Figure1"
 }, 
 "nbformat": 2, 
 "worksheets": [
  {
   "cells": [
    {
     "cell_type": "code", 
     "collapsed": true, 
     "input": [
      "sys.path.append(\"/home/hukadan/These/\")", 
      "from setproc.cycle_process.classes.cycle_process import CycleProcess", 
      "from setproc.common.functions.local_extrema import local_extrema", 
      "import os"
     ], 
     "language": "python", 
     "outputs": [], 
     "prompt_number": 2
    }, 
    {
     "cell_type": "code", 
     "collapsed": false, 
     "input": [
      "os.chdir(\"/media/Iomega_HDD/Measures/Tb2C/sample3/6R/J9/Cycle/Cycle15/\");", 
      "Cyc15 = CycleProcess(\"G_B_trace.json\",\"G_B_retrace.json\",[0,1,2,3,4,5,6,7,8,9],\"Json\");"
     ], 
     "language": "python", 
     "outputs": [
      {
       "output_type": "stream", 
       "stream": "stdout", 
       "text": [
        "Loading  0G_B_trace.json  file. Please wait..", 
        "\tPerfect matching"
       ]
      }, 
      {
       "output_type": "stream", 
       "stream": "stdout", 
       "text": [
        "", 
        "Loading  1G_B_trace.json  file. Please wait..", 
        "\tPerfect matching"
       ]
      }, 
      {
       "output_type": "stream", 
       "stream": "stdout", 
       "text": [
        "", 
        "Loading  2G_B_trace.json  file. Please wait..", 
        "\tPerfect matching"
       ]
      }, 
      {
       "output_type": "stream", 
       "stream": "stdout", 
       "text": [
        "", 
        "Loading  3G_B_trace.json  file. Please wait..", 
        "\tPerfect matching"
       ]
      }, 
      {
       "output_type": "stream", 
       "stream": "stdout", 
       "text": [
        "", 
        "Loading  4G_B_trace.json  file. Please wait..", 
        "\tPerfect matching"
       ]
      }, 
      {
       "output_type": "stream", 
       "stream": "stdout", 
       "text": [
        "", 
        "Loading  5G_B_trace.json  file. Please wait..", 
        "\tPerfect matching"
       ]
      }, 
      {
       "output_type": "stream", 
       "stream": "stdout", 
       "text": [
        "", 
        "Loading  6G_B_trace.json  file. Please wait..", 
        "\tPerfect matching"
       ]
      }, 
      {
       "output_type": "stream", 
       "stream": "stdout", 
       "text": [
        "", 
        "Loading  7G_B_trace.json  file. Please wait..", 
        "\tPerfect matching"
       ]
      }, 
      {
       "output_type": "stream", 
       "stream": "stdout", 
       "text": [
        "", 
        "Loading  8G_B_trace.json  file. Please wait..", 
        "\tPerfect matching"
       ]
      }, 
      {
       "output_type": "stream", 
       "stream": "stdout", 
       "text": [
        "", 
        "Loading  9G_B_trace.json  file. Please wait..", 
        "\tPerfect matching"
       ]
      }, 
      {
       "output_type": "stream", 
       "stream": "stdout", 
       "text": [
        "", 
        "Merging....", 
        "Loading "
       ]
      }, 
      {
       "output_type": "stream", 
       "stream": "stdout", 
       "text": [
        " 0G_B_retrace.json  file. Please wait..", 
        "\tPerfect matching"
       ]
      }, 
      {
       "output_type": "stream", 
       "stream": "stdout", 
       "text": [
        "", 
        "Loading  1G_B_retrace.json  file. Please wait..", 
        "\tPerfect matching"
       ]
      }, 
      {
       "output_type": "stream", 
       "stream": "stdout", 
       "text": [
        "", 
        "Loading  2G_B_retrace.json  file. Please wait..", 
        "\tPerfect matching"
       ]
      }, 
      {
       "output_type": "stream", 
       "stream": "stdout", 
       "text": [
        "", 
        "Loading  3G_B_retrace.json  file. Please wait..", 
        "\tPerfect matching"
       ]
      }, 
      {
       "output_type": "stream", 
       "stream": "stdout", 
       "text": [
        "", 
        "Loading  4G_B_retrace.json  file. Please wait..", 
        "\tPerfect matching"
       ]
      }, 
      {
       "output_type": "stream", 
       "stream": "stdout", 
       "text": [
        "", 
        "Loading  5G_B_retrace.json  file. Please wait..", 
        "\tPerfect matching"
       ]
      }, 
      {
       "output_type": "stream", 
       "stream": "stdout", 
       "text": [
        "", 
        "Loading  6G_B_retrace.json  file. Please wait..", 
        "\tPerfect matching"
       ]
      }, 
      {
       "output_type": "stream", 
       "stream": "stdout", 
       "text": [
        "", 
        "Loading  7G_B_retrace.json  file. Please wait..", 
        "\tPerfect matching"
       ]
      }, 
      {
       "output_type": "stream", 
       "stream": "stdout", 
       "text": [
        "", 
        "Loading  8G_B_retrace.json  file. Please wait..", 
        "\tPerfect matching"
       ]
      }, 
      {
       "output_type": "stream", 
       "stream": "stdout", 
       "text": [
        "", 
        "Loading  9G_B_retrace.json  file. Please wait..", 
        "\tPerfect matching"
       ]
      }, 
      {
       "output_type": "stream", 
       "stream": "stdout", 
       "text": [
        "", 
        "Merging....", 
        "Finale sanity check once merged"
       ]
      }, 
      {
       "output_type": "stream", 
       "stream": "stdout", 
       "text": [
        "", 
        "trace....", 
        "\tThe maximum difference is "
       ]
      }, 
      {
       "output_type": "stream", 
       "stream": "stdout", 
       "text": [
        " 1  points with the sweep  4999", 
        "retrace...", 
        "\tThe maximum difference is "
       ]
      }, 
      {
       "output_type": "stream", 
       "stream": "stdout", 
       "text": [
        " 1  points with the sweep  4999"
       ]
      }
     ], 
     "prompt_number": 3
    }, 
    {
     "cell_type": "code", 
     "collapsed": false, 
     "input": [
      "Cyc15.GetStat(150,4)", 
      "Cyc15.GetValueStat()"
     ], 
     "language": "python", 
     "outputs": [
      {
       "output_type": "stream", 
       "stream": "stdout", 
       "text": [
        "In classic mode", 
        "In classic mode", 
        "10%"
       ]
      }, 
      {
       "output_type": "stream", 
       "stream": "stdout", 
       "text": [
        "", 
        "20%"
       ]
      }, 
      {
       "output_type": "stream", 
       "stream": "stdout", 
       "text": [
        "", 
        "30%"
       ]
      }, 
      {
       "output_type": "stream", 
       "stream": "stdout", 
       "text": [
        "", 
        "40%"
       ]
      }, 
      {
       "output_type": "stream", 
       "stream": "stdout", 
       "text": [
        "", 
        "50%"
       ]
      }, 
      {
       "output_type": "stream", 
       "stream": "stdout", 
       "text": [
        "", 
        "60%"
       ]
      }, 
      {
       "output_type": "stream", 
       "stream": "stdout", 
       "text": [
        "", 
        "70%"
       ]
      }, 
      {
       "output_type": "stream", 
       "stream": "stdout", 
       "text": [
        "", 
        "80%"
       ]
      }, 
      {
       "output_type": "stream", 
       "stream": "stdout", 
       "text": [
        "", 
        "90%"
       ]
      }, 
      {
       "output_type": "stream", 
       "stream": "stdout", 
       "text": [
        ""
       ]
      }, 
      {
       "output_type": "pyout", 
       "prompt_number": 4, 
       "text": [
        "True"
       ]
      }, 
      {
       "output_type": "display_data", 
       "png": "[encoded data removed]"
      }, 
      {
       "output_type": "display_data", 
       "png": "[encoded data removed]"
      }
     ], 
     "prompt_number": 4
    }, 
    {
     "cell_type": "code", 
     "collapsed": true, 
     "input": [
      "Cyc15.SetPlotCalibration([10**-29.5,10**-28,[-0.1,0.1],-0.019])", 
      "Cyc15.GetAR()"
     ], 
     "language": "python", 
     "outputs": [], 
     "prompt_number": 5
    }, 
    {
     "cell_type": "code", 
     "collapsed": false, 
     "input": [
      "0.63-0.08"
     ], 
     "language": "python", 
     "outputs": [
      {
       "output_type": "pyout", 
       "prompt_number": 6, 
       "text": [
        "0.55"
       ]
      }
     ], 
     "prompt_number": 6
    }, 
    {
     "cell_type": "code", 
     "collapsed": false, 
     "input": [
      "from matplotlib.ticker import NullFormatter", 
      "nullfmt   = NullFormatter()", 
      "", 
      "", 
      "fig = figure(figsize=(9,9))", 
      "", 
      "left, width = 0.12, 0.67", 
      "bottom, height = 0.08, 0.67", 
      "bottom_h = bottom + height + 0.0035", 
      "left_h = left+width+0.0035", 
      "", 
      "rect_scatter = [left, bottom, width, height]", 
      "rect_histx = [left, bottom_h, width, 0.2]", 
      "rect_histy = [left_h, bottom, 0.2, height]", 
      "rect_cb = [left_h,bottom_h,0.2,0.2]", 
      "", 
      "ax3 = plt.axes(rect_scatter)", 
      "ax1 = plt.axes(rect_histx)", 
      "ax2 = plt.axes(rect_histy)", 
      "axcb = plt.axes(rect_cb)", 
      "axcb.set_axis_off()", 
      "", 
      "ax1.xaxis.set_major_formatter(nullfmt)", 
      "ax2.yaxis.set_major_formatter(nullfmt)", 
      "", 
      "", 
      "", 
      "", 
      "#######On commence a tracer", 
      "Cyc15.GetAR()", 
      "", 
      "tracedb = []", 
      "for x in Cyc15[\"AvsR\"][0] :", 
      "    tracedb.append(x-0.025)", 
      "    ", 
      "tracedb1 = []", 
      "for x in Cyc15[\"AvsR\"][1]:", 
      "    tracedb1.append(x-0.007)", 
      "", 
      "ax1.hist(tracedb,50,range =[-0.05,-0.025],edgecolor=\"purple\", facecolor=\"purple\");", 
      "ax1.hist(tracedb,50,range =[-0.025,0.0],edgecolor=\"green\", facecolor=\"green\");", 
      "ax1.hist(tracedb,50,range =[0.0,0.025],edgecolor=\"blue\", facecolor=\"blue\");", 
      "ax1.hist(tracedb,50,range =[0.025,0.05],edgecolor=\"red\", facecolor=\"red\");", 
      "", 
      "", 
      "ax2.hist(tracedb1,50,range =[-0.05,-0.025],orientation = 'horizontal',edgecolor=\"purple\", facecolor=\"purple\");", 
      "ax2.hist(tracedb1,50,range =[-0.025,0.0],orientation = 'horizontal',edgecolor=\"green\", facecolor=\"green\");", 
      "ax2.hist(tracedb1,50,range =[0.0,0.025],orientation = 'horizontal',edgecolor=\"blue\", facecolor=\"blue\");", 
      "ax2.hist(tracedb1,50,range =[0.025,0.05],orientation = 'horizontal',edgecolor=\"red\", facecolor=\"red\");", 
      "", 
      "HDT, xedges, yedges = histogram2d(tracedb,tracedb1,200,[[-0.05,0.05],[-0.05,0.05]])", 
      "extentim = [xedges[0], xedges[-1], yedges[0], yedges[-1]]", 
      "im1 = ax3.imshow(log10(array(HDT.T)+1e-6),extent = extentim, origin = 'lower')", 
      "im1.set_clim(-0.5,1.5)", 
      "", 
      "", 
      "", 
      "ax1.xaxis.set_ticklabels([\"\"])", 
      "ax2.yaxis.set_ticklabels([\"\"])", 
      "#ax1.set_xlabel(r\"$B$ (mT)\")", 
      "#ax2.set_xlabel(r\"$B$ (mT)\")", 
      "#ax1.set_ylabel(r\"$Counts$\")", 
      "#ax2.set_ylabel(r\"$Counts$\")", 
      "ax1.set_xlim(-0.05,0.05)", 
      "", 
      "ax1.xaxis.set_ticks([-0.025,0,0.025])", 
      "ax2.yaxis.set_ticks([-0.025,0,0.025])", 
      "ax2.set_ylim(-0.05,0.05)", 
      "ax1.yaxis.set_ticks([50,100,150])", 
      "ax2.xaxis.set_ticks([50,100,150])", 
      "ax2.set_xlim(0,200)", 
      "ax1.set_ylim(0,200)", 
      "", 
      "ax3.set_xlim(-0.05,0.05)", 
      "ax3.set_ylim(-0.05,0.05)", 
      "", 
      "ax3.xaxis.set_ticks([-0.025,0,0.025])", 
      "ax3.yaxis.set_ticks([-0.025,0,0.025])", 
      "", 
      "im1.set_cmap(\"hot\")", 
      "", 
      "#ax1.grid(color=\"black\")", 
      "#ax2.grid(color=\"black\")", 
      "ax1.grid(color=\"black\",alpha=0.6)", 
      "ax2.grid(color=\"black\",alpha=0.6)", 
      "ax3.grid(color=\"white\",alpha=0.6)", 
      "ax1.set_ylabel(r\"$Coups$\")", 
      "ax2.set_xlabel(r\"$Coups$\")", 
      "", 
      "ax3.set_xlabel(r\"$B_{\\rm{t}}$ (T)\")", 
      "ax3.set_ylabel(r\"$B_{\\rm{r}}$ (T)\")", 
      "", 
      "", 
      "", 
      "cb2 = colorbar(im1,ax=axcb,orientation=\"horizontal\",shrink = 0.5)", 
      "cb2.ax.xaxis.set_label_position('top')", 
      "cb2.ax.set_xlabel(r\"$\\log(Coups$ (%))\", va = \"bottom\")", 
      "cb2.ax.set_position([0.82,0.8,0.14,0.04])", 
      "cb2.set_ticks([0,1])", 
      "cb2.ax.xaxis.set_tick_params(top=False)", 
      "fig.savefig(\"/home/hukadan/These/Manuscript/Resultats/Hist2D/Hist2Dver2.pdf\",dpi=300)"
     ], 
     "language": "python", 
     "outputs": [
      {
       "output_type": "display_data", 
       "png": "[encoded data removed]"
      }
     ], 
     "prompt_number": 21
    }
   ]
  }
 ]
}