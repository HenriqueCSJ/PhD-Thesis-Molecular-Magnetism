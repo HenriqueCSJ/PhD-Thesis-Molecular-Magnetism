{
 "metadata": {
  "name": "MesureAimantTbPc2"
 }, 
 "nbformat": 2, 
 "worksheets": [
  {
   "cells": [
    {
     "cell_type": "code", 
     "collapsed": true, 
     "input": [
      "import os", 
      "import matplotlib.image as mpimg #pour les images", 
      "os.chdir(\"/home/hukadan/These/Manuscript/Resultats/MesureAimant/\")"
     ], 
     "language": "python", 
     "outputs": [], 
     "prompt_number": 1
    }, 
    {
     "cell_type": "code", 
     "collapsed": true, 
     "input": [
      "Hist = np.loadtxt(\"hyst.txt\")"
     ], 
     "language": "python", 
     "outputs": [], 
     "prompt_number": 2
    }, 
    {
     "cell_type": "code", 
     "collapsed": true, 
     "input": [
      "X = []", 
      "Y = []", 
      "for x in Hist :", 
      "    X.append(x[0])", 
      "    Y.append(x[1])"
     ], 
     "language": "python", 
     "outputs": [], 
     "prompt_number": 3
    }, 
    {
     "cell_type": "code", 
     "collapsed": false, 
     "input": [
      "plot(X,Y)", 
      "ax=gca()", 
      "ax.set_xlim(-0.075,0.075)", 
      "ax.set_ylim(-1.1,1.1)"
     ], 
     "language": "python", 
     "outputs": [
      {
       "output_type": "pyout", 
       "prompt_number": 4, 
       "text": [
        "(-1.1, 1.1)"
       ]
      }, 
      {
       "output_type": "display_data", 
       "png": "[encoded data removed]"
      }
     ], 
     "prompt_number": 4
    }, 
    {
     "cell_type": "code", 
     "collapsed": false, 
     "input": [
      "sys.path.append(\"/home/hukadan/These/\")", 
      "from setproc.cycle_process.classes.cycle_process import CycleProcess", 
      "from setproc.common.functions.local_extrema import local_extrema", 
      "import os", 
      "", 
      "# <codecell>", 
      "", 
      "os.chdir(\"/media/Iomega_HDD/Measures/Tb2C/sample3/6R/J9/Cycle/Cycle6/\");", 
      "Cyc37 = CycleProcess(\"G_B_trace.json\",\"G_B_retrace.json\",[1],\"Json\");", 
      "Cyc37.GetStat(200,4)"
     ], 
     "language": "python", 
     "outputs": [
      {
       "output_type": "stream", 
       "stream": "stdout", 
       "text": [
        "Loading  1G_B_trace.json  file. Please wait..", 
        "\tPerfect matching"
       ]
      }, 
      {
       "output_type": "stream", 
       "stream": "stdout", 
       "text": [
        "", 
        "Merging....", 
        "Loading "
       ]
      }, 
      {
       "output_type": "stream", 
       "stream": "stdout", 
       "text": [
        " 1G_B_retrace.json  file. Please wait..", 
        "\tPerfect matching"
       ]
      }, 
      {
       "output_type": "stream", 
       "stream": "stdout", 
       "text": [
        "", 
        "Merging....", 
        "Finale sanity check once merged"
       ]
      }, 
      {
       "output_type": "stream", 
       "stream": "stdout", 
       "text": [
        "", 
        "trace....", 
        "\tPerfect matching"
       ]
      }, 
      {
       "output_type": "stream", 
       "stream": "stdout", 
       "text": [
        "", 
        "retrace...", 
        "\tPerfect matching"
       ]
      }, 
      {
       "ename": "IndexError", 
       "evalue": "list index out of range", 
       "output_type": "pyerr", 
       "traceback": [
        "\u001b[0;31m---------------------------------------------------------------------------\u001b[0m\n\u001b[0;31mIndexError\u001b[0m                                Traceback (most recent call last)", 
        "\u001b[0;32m/media/Iomega_HDD/Measures/Tb2C/sample3/6R/J9/Cycle/Cycle6/<ipython-input-5-12b9d94b0287>\u001b[0m in \u001b[0;36m<module>\u001b[0;34m()\u001b[0m\n\u001b[1;32m      8\u001b[0m \u001b[0mos\u001b[0m\u001b[0;34m.\u001b[0m\u001b[0mchdir\u001b[0m\u001b[0;34m(\u001b[0m\u001b[0;34m\"/media/Iomega_HDD/Measures/Tb2C/sample3/6R/J9/Cycle/Cycle6/\"\u001b[0m\u001b[0;34m)\u001b[0m\u001b[0;34m;\u001b[0m\u001b[0;34m\u001b[0m\u001b[0m\n\u001b[1;32m      9\u001b[0m \u001b[0mCyc37\u001b[0m \u001b[0;34m=\u001b[0m \u001b[0mCycleProcess\u001b[0m\u001b[0;34m(\u001b[0m\u001b[0;34m\"G_B_trace.json\"\u001b[0m\u001b[0;34m,\u001b[0m\u001b[0;34m\"G_B_retrace.json\"\u001b[0m\u001b[0;34m,\u001b[0m\u001b[0;34m[\u001b[0m\u001b[0;36m1\u001b[0m\u001b[0;34m]\u001b[0m\u001b[0;34m,\u001b[0m\u001b[0;34m\"Json\"\u001b[0m\u001b[0;34m)\u001b[0m\u001b[0;34m;\u001b[0m\u001b[0;34m\u001b[0m\u001b[0m\n\u001b[0;32m---> 10\u001b[0;31m \u001b[0mCyc37\u001b[0m\u001b[0;34m.\u001b[0m\u001b[0mGetStat\u001b[0m\u001b[0;34m(\u001b[0m\u001b[0;36m200\u001b[0m\u001b[0;34m,\u001b[0m\u001b[0;36m4\u001b[0m\u001b[0;34m)\u001b[0m\u001b[0;34m\u001b[0m\u001b[0m\n\u001b[0m", 
        "\u001b[0;32m/home/hukadan/These/setproc/cycle_process/classes/cycle_process.pyc\u001b[0m in \u001b[0;36mGetStat\u001b[0;34m(self, i_start, w, power, sw, mode, seuil1, seuil2, span)\u001b[0m\n\u001b[1;32m    126\u001b[0m                 \u001b[0;32mprint\u001b[0m\u001b[0;34m(\u001b[0m\u001b[0mstr\u001b[0m\u001b[0;34m(\u001b[0m\u001b[0mint\u001b[0m\u001b[0;34m(\u001b[0m\u001b[0;36m100\u001b[0m \u001b[0;34m*\u001b[0m \u001b[0mi\u001b[0m\u001b[0;34m/\u001b[0m\u001b[0msweep_number\u001b[0m\u001b[0;34m)\u001b[0m\u001b[0;34m)\u001b[0m \u001b[0;34m+\u001b[0m \u001b[0;34m\"%\"\u001b[0m\u001b[0;34m)\u001b[0m\u001b[0;34m\u001b[0m\u001b[0m\n\u001b[1;32m    127\u001b[0m             \u001b[0;31m#TRACE STAT\u001b[0m\n\u001b[0;34m\u001b[0m\u001b[0m\n\u001b[0;32m--> 128\u001b[0;31m             \u001b[0mDown\u001b[0m\u001b[0;34m,\u001b[0m \u001b[0mUp\u001b[0m \u001b[0;34m=\u001b[0m \u001b[0mself\u001b[0m\u001b[0;34m.\u001b[0m\u001b[0mtrace\u001b[0m\u001b[0;34m.\u001b[0m\u001b[0mGetJump\u001b[0m\u001b[0;34m(\u001b[0m\u001b[0mi\u001b[0m\u001b[0;34m,\u001b[0m \u001b[0mi_start\u001b[0m\u001b[0;34m,\u001b[0m \u001b[0mw\u001b[0m\u001b[0;34m,\u001b[0m \u001b[0mpower\u001b[0m\u001b[0;34m,\u001b[0m \u001b[0msw\u001b[0m\u001b[0;34m,\u001b[0m \u001b[0msi\u001b[0m\u001b[0;34m,\u001b[0m \u001b[0mmode\u001b[0m\u001b[0;34m,\u001b[0m \u001b[0mseuil1\u001b[0m\u001b[0;34m,\u001b[0m \u001b[0mseuil2\u001b[0m\u001b[0;34m,\u001b[0m \u001b[0mspan\u001b[0m\u001b[0;34m)\u001b[0m\u001b[0;34m\u001b[0m\u001b[0m\n\u001b[0m\u001b[1;32m    129\u001b[0m             \u001b[0mDown\u001b[0m\u001b[0;34m.\u001b[0m\u001b[0mtrace\u001b[0m \u001b[0;34m=\u001b[0m \u001b[0mTrue\u001b[0m\u001b[0;34m\u001b[0m\u001b[0m\n\u001b[1;32m    130\u001b[0m             \u001b[0mUp\u001b[0m\u001b[0;34m.\u001b[0m\u001b[0mtrace\u001b[0m \u001b[0;34m=\u001b[0m \u001b[0mTrue\u001b[0m\u001b[0;34m\u001b[0m\u001b[0m\n", 
        "\u001b[0;32m/home/hukadan/These/setproc/sweep_set/classes/sweep_set.pyc\u001b[0m in \u001b[0;36mGetJump\u001b[0;34m(self, nbr, i_start, w, power, sw, si, mode, seuil1, seuil2, span)\u001b[0m\n\u001b[1;32m     65\u001b[0m             \u001b[0msi\u001b[0m \u001b[0;34m=\u001b[0m \u001b[0mnp\u001b[0m\u001b[0;34m.\u001b[0m\u001b[0msize\u001b[0m\u001b[0;34m(\u001b[0m\u001b[0mself\u001b[0m\u001b[0;34m[\u001b[0m\u001b[0;34m\"bias\"\u001b[0m\u001b[0;34m]\u001b[0m\u001b[0;34m)\u001b[0m\u001b[0;34m\u001b[0m\u001b[0m\n\u001b[1;32m     66\u001b[0m         \u001b[0mbsweep\u001b[0m \u001b[0;34m=\u001b[0m \u001b[0mself\u001b[0m\u001b[0;34m[\u001b[0m\u001b[0;34m\"bias\"\u001b[0m\u001b[0;34m]\u001b[0m\u001b[0;34m[\u001b[0m\u001b[0mi_start\u001b[0m\u001b[0;34m+\u001b[0m\u001b[0;34m(\u001b[0m\u001b[0mw\u001b[0m\u001b[0;34m-\u001b[0m\u001b[0;36m1\u001b[0m\u001b[0;34m)\u001b[0m\u001b[0;34m+\u001b[0m\u001b[0msw\u001b[0m\u001b[0;34m/\u001b[0m\u001b[0;36m2\u001b[0m\u001b[0;34m:\u001b[0m\u001b[0msi\u001b[0m\u001b[0;34m-\u001b[0m\u001b[0;34m(\u001b[0m\u001b[0mw\u001b[0m\u001b[0;34m-\u001b[0m\u001b[0;36m1\u001b[0m\u001b[0;34m)\u001b[0m\u001b[0;34m-\u001b[0m\u001b[0msw\u001b[0m\u001b[0;34m/\u001b[0m\u001b[0;36m2\u001b[0m\u001b[0;34m+\u001b[0m\u001b[0;36m1\u001b[0m\u001b[0;34m-\u001b[0m\u001b[0msw\u001b[0m\u001b[0;34m%\u001b[0m\u001b[0;36m2\u001b[0m\u001b[0;34m]\u001b[0m\u001b[0;34m\u001b[0m\u001b[0m\n\u001b[0;32m---> 67\u001b[0;31m         \u001b[0mtemp_array\u001b[0m \u001b[0;34m=\u001b[0m \u001b[0mnp\u001b[0m\u001b[0;34m.\u001b[0m\u001b[0marray\u001b[0m\u001b[0;34m(\u001b[0m\u001b[0mself\u001b[0m\u001b[0;34m[\u001b[0m\u001b[0;34m\"data\"\u001b[0m\u001b[0;34m]\u001b[0m\u001b[0;34m[\u001b[0m\u001b[0mnbr\u001b[0m\u001b[0;34m]\u001b[0m\u001b[0;34m[\u001b[0m\u001b[0mi_start\u001b[0m\u001b[0;34m:\u001b[0m\u001b[0;34m]\u001b[0m\u001b[0;34m,\u001b[0m \u001b[0mdtype\u001b[0m \u001b[0;34m=\u001b[0m \u001b[0mnp\u001b[0m\u001b[0;34m.\u001b[0m\u001b[0mfloat\u001b[0m\u001b[0;34m)\u001b[0m\u001b[0;34m\u001b[0m\u001b[0m\n\u001b[0m\u001b[1;32m     68\u001b[0m         \u001b[0;31m#temp_array = temp_array / np.mean(temp_array)\u001b[0m\n\u001b[0;34m\u001b[0m\u001b[0m\n\u001b[1;32m     69\u001b[0m         \u001b[0mjump\u001b[0m \u001b[0;34m=\u001b[0m \u001b[0mfilter\u001b[0m\u001b[0;34m(\u001b[0m\u001b[0mtemp_array\u001b[0m\u001b[0;34m,\u001b[0m \u001b[0mw\u001b[0m\u001b[0;34m,\u001b[0m \u001b[0mpower\u001b[0m\u001b[0;34m,\u001b[0m \u001b[0msw\u001b[0m\u001b[0;34m)\u001b[0m\u001b[0;34m\u001b[0m\u001b[0m\n", 
        "\u001b[0;31mIndexError\u001b[0m: list index out of range"
       ]
      }, 
      {
       "output_type": "stream", 
       "stream": "stdout", 
       "text": [
        "", 
        "Index problem loading dates", 
        "In classic mode", 
        "In classic mode"
       ]
      }
     ], 
     "prompt_number": 5
    }, 
    {
     "cell_type": "code", 
     "collapsed": false, 
     "input": [
      "os.chdir(\"/media/Iomega_HDD/Measures/Tb2C/sample3/6R/J9/Cycle/Cycle38/\");", 
      "Cyc38 = CycleProcess(\"G_B_trace.json\",\"G_B_retrace.json\",[0],\"Json\");", 
      "Cyc38.GetStat(200,4)"
     ], 
     "language": "python", 
     "outputs": [
      {
       "output_type": "stream", 
       "stream": "stdout", 
       "text": [
        "Loading  0G_B_trace.json  file. Please wait..", 
        "\tThe maximum difference is "
       ]
      }, 
      {
       "output_type": "stream", 
       "stream": "stdout", 
       "text": [
        " 7148  points with the sweep  787", 
        "Merging....", 
        "Loading "
       ]
      }, 
      {
       "output_type": "stream", 
       "stream": "stdout", 
       "text": [
        " 0G_B_retrace.json  file. Please wait..", 
        "\tPerfect matching"
       ]
      }, 
      {
       "output_type": "stream", 
       "stream": "stdout", 
       "text": [
        "", 
        "Merging....", 
        "Finale sanity check once merged"
       ]
      }, 
      {
       "output_type": "stream", 
       "stream": "stdout", 
       "text": [
        "", 
        "trace....", 
        "\tPerfect matching"
       ]
      }, 
      {
       "output_type": "stream", 
       "stream": "stdout", 
       "text": [
        "", 
        "retrace...", 
        "\tPerfect matching"
       ]
      }, 
      {
       "ename": "IndexError", 
       "evalue": "list index out of range", 
       "output_type": "pyerr", 
       "traceback": [
        "\u001b[0;31m---------------------------------------------------------------------------\u001b[0m\n\u001b[0;31mIndexError\u001b[0m                                Traceback (most recent call last)", 
        "\u001b[0;32m/media/Iomega_HDD/Measures/Tb2C/sample3/6R/J9/Cycle/Cycle38/<ipython-input-7-99300c3b4b55>\u001b[0m in \u001b[0;36m<module>\u001b[0;34m()\u001b[0m\n\u001b[1;32m      1\u001b[0m \u001b[0mos\u001b[0m\u001b[0;34m.\u001b[0m\u001b[0mchdir\u001b[0m\u001b[0;34m(\u001b[0m\u001b[0;34m\"/media/Iomega_HDD/Measures/Tb2C/sample3/6R/J9/Cycle/Cycle38/\"\u001b[0m\u001b[0;34m)\u001b[0m\u001b[0;34m;\u001b[0m\u001b[0;34m\u001b[0m\u001b[0m\n\u001b[1;32m      2\u001b[0m \u001b[0mCyc38\u001b[0m \u001b[0;34m=\u001b[0m \u001b[0mCycleProcess\u001b[0m\u001b[0;34m(\u001b[0m\u001b[0;34m\"G_B_trace.json\"\u001b[0m\u001b[0;34m,\u001b[0m\u001b[0;34m\"G_B_retrace.json\"\u001b[0m\u001b[0;34m,\u001b[0m\u001b[0;34m[\u001b[0m\u001b[0;36m0\u001b[0m\u001b[0;34m]\u001b[0m\u001b[0;34m,\u001b[0m\u001b[0;34m\"Json\"\u001b[0m\u001b[0;34m)\u001b[0m\u001b[0;34m;\u001b[0m\u001b[0;34m\u001b[0m\u001b[0m\n\u001b[0;32m----> 3\u001b[0;31m \u001b[0mCyc38\u001b[0m\u001b[0;34m.\u001b[0m\u001b[0mGetStat\u001b[0m\u001b[0;34m(\u001b[0m\u001b[0;36m200\u001b[0m\u001b[0;34m,\u001b[0m\u001b[0;36m4\u001b[0m\u001b[0;34m)\u001b[0m\u001b[0;34m\u001b[0m\u001b[0m\n\u001b[0m", 
        "\u001b[0;32m/home/hukadan/These/setproc/cycle_process/classes/cycle_process.pyc\u001b[0m in \u001b[0;36mGetStat\u001b[0;34m(self, i_start, w, power, sw, mode, seuil1, seuil2, span)\u001b[0m\n\u001b[1;32m    139\u001b[0m \u001b[0;34m\u001b[0m\u001b[0m\n\u001b[1;32m    140\u001b[0m             \u001b[0;31m#RETRACE STAT\u001b[0m\n\u001b[0;34m\u001b[0m\u001b[0m\n\u001b[0;32m--> 141\u001b[0;31m             \u001b[0mDown\u001b[0m\u001b[0;34m,\u001b[0m \u001b[0mUp\u001b[0m \u001b[0;34m=\u001b[0m \u001b[0mself\u001b[0m\u001b[0;34m.\u001b[0m\u001b[0mretrace\u001b[0m\u001b[0;34m.\u001b[0m\u001b[0mGetJump\u001b[0m\u001b[0;34m(\u001b[0m\u001b[0mi\u001b[0m\u001b[0;34m,\u001b[0m \u001b[0mi_start\u001b[0m\u001b[0;34m,\u001b[0m \u001b[0mw\u001b[0m\u001b[0;34m,\u001b[0m \u001b[0mpower\u001b[0m\u001b[0;34m,\u001b[0m \u001b[0msw\u001b[0m\u001b[0;34m,\u001b[0m \u001b[0msi\u001b[0m\u001b[0;34m,\u001b[0m \u001b[0mmode\u001b[0m\u001b[0;34m,\u001b[0m \u001b[0mseuil1\u001b[0m\u001b[0;34m,\u001b[0m \u001b[0mseuil2\u001b[0m\u001b[0;34m,\u001b[0m \u001b[0mspan\u001b[0m\u001b[0;34m)\u001b[0m\u001b[0;34m\u001b[0m\u001b[0m\n\u001b[0m\u001b[1;32m    142\u001b[0m             \u001b[0mDown\u001b[0m\u001b[0;34m.\u001b[0m\u001b[0mtrace\u001b[0m \u001b[0;34m=\u001b[0m \u001b[0mFalse\u001b[0m\u001b[0;34m\u001b[0m\u001b[0m\n\u001b[1;32m    143\u001b[0m             \u001b[0mUp\u001b[0m\u001b[0;34m.\u001b[0m\u001b[0mtrace\u001b[0m \u001b[0;34m=\u001b[0m \u001b[0mFalse\u001b[0m\u001b[0;34m\u001b[0m\u001b[0m\n", 
        "\u001b[0;32m/home/hukadan/These/setproc/sweep_set/classes/sweep_set.pyc\u001b[0m in \u001b[0;36mGetJump\u001b[0;34m(self, nbr, i_start, w, power, sw, si, mode, seuil1, seuil2, span)\u001b[0m\n\u001b[1;32m     65\u001b[0m             \u001b[0msi\u001b[0m \u001b[0;34m=\u001b[0m \u001b[0mnp\u001b[0m\u001b[0;34m.\u001b[0m\u001b[0msize\u001b[0m\u001b[0;34m(\u001b[0m\u001b[0mself\u001b[0m\u001b[0;34m[\u001b[0m\u001b[0;34m\"bias\"\u001b[0m\u001b[0;34m]\u001b[0m\u001b[0;34m)\u001b[0m\u001b[0;34m\u001b[0m\u001b[0m\n\u001b[1;32m     66\u001b[0m         \u001b[0mbsweep\u001b[0m \u001b[0;34m=\u001b[0m \u001b[0mself\u001b[0m\u001b[0;34m[\u001b[0m\u001b[0;34m\"bias\"\u001b[0m\u001b[0;34m]\u001b[0m\u001b[0;34m[\u001b[0m\u001b[0mi_start\u001b[0m\u001b[0;34m+\u001b[0m\u001b[0;34m(\u001b[0m\u001b[0mw\u001b[0m\u001b[0;34m-\u001b[0m\u001b[0;36m1\u001b[0m\u001b[0;34m)\u001b[0m\u001b[0;34m+\u001b[0m\u001b[0msw\u001b[0m\u001b[0;34m/\u001b[0m\u001b[0;36m2\u001b[0m\u001b[0;34m:\u001b[0m\u001b[0msi\u001b[0m\u001b[0;34m-\u001b[0m\u001b[0;34m(\u001b[0m\u001b[0mw\u001b[0m\u001b[0;34m-\u001b[0m\u001b[0;36m1\u001b[0m\u001b[0;34m)\u001b[0m\u001b[0;34m-\u001b[0m\u001b[0msw\u001b[0m\u001b[0;34m/\u001b[0m\u001b[0;36m2\u001b[0m\u001b[0;34m+\u001b[0m\u001b[0;36m1\u001b[0m\u001b[0;34m-\u001b[0m\u001b[0msw\u001b[0m\u001b[0;34m%\u001b[0m\u001b[0;36m2\u001b[0m\u001b[0;34m]\u001b[0m\u001b[0;34m\u001b[0m\u001b[0m\n\u001b[0;32m---> 67\u001b[0;31m         \u001b[0mtemp_array\u001b[0m \u001b[0;34m=\u001b[0m \u001b[0mnp\u001b[0m\u001b[0;34m.\u001b[0m\u001b[0marray\u001b[0m\u001b[0;34m(\u001b[0m\u001b[0mself\u001b[0m\u001b[0;34m[\u001b[0m\u001b[0;34m\"data\"\u001b[0m\u001b[0;34m]\u001b[0m\u001b[0;34m[\u001b[0m\u001b[0mnbr\u001b[0m\u001b[0;34m]\u001b[0m\u001b[0;34m[\u001b[0m\u001b[0mi_start\u001b[0m\u001b[0;34m:\u001b[0m\u001b[0;34m]\u001b[0m\u001b[0;34m,\u001b[0m \u001b[0mdtype\u001b[0m \u001b[0;34m=\u001b[0m \u001b[0mnp\u001b[0m\u001b[0;34m.\u001b[0m\u001b[0mfloat\u001b[0m\u001b[0;34m)\u001b[0m\u001b[0;34m\u001b[0m\u001b[0m\n\u001b[0m\u001b[1;32m     68\u001b[0m         \u001b[0;31m#temp_array = temp_array / np.mean(temp_array)\u001b[0m\n\u001b[0;34m\u001b[0m\u001b[0m\n\u001b[1;32m     69\u001b[0m         \u001b[0mjump\u001b[0m \u001b[0;34m=\u001b[0m \u001b[0mfilter\u001b[0m\u001b[0;34m(\u001b[0m\u001b[0mtemp_array\u001b[0m\u001b[0;34m,\u001b[0m \u001b[0mw\u001b[0m\u001b[0;34m,\u001b[0m \u001b[0mpower\u001b[0m\u001b[0;34m,\u001b[0m \u001b[0msw\u001b[0m\u001b[0;34m)\u001b[0m\u001b[0;34m\u001b[0m\u001b[0m\n", 
        "\u001b[0;31mIndexError\u001b[0m: list index out of range"
       ]
      }, 
      {
       "output_type": "stream", 
       "stream": "stdout", 
       "text": [
        "", 
        "Index problem loading dates", 
        "In classic mode", 
        "In classic mode"
       ]
      }
     ], 
     "prompt_number": 7
    }, 
    {
     "cell_type": "code", 
     "collapsed": false, 
     "input": [
      "Cyc37.GetValueStat()", 
      "Cyc37.SetPlotCalibration([10**-32.5,10**-27,[-0.4,0.4],-0.019])", 
      "Cyc38.GetValueStat()", 
      "Cyc38.SetPlotCalibration([10**-32.5,10**-27,[-0.4,0.4],-0.019])"
     ], 
     "language": "python", 
     "outputs": []
    }, 
    {
     "cell_type": "code", 
     "collapsed": false, 
     "input": [
      "Cyc37.PlotHysteresis(-0.4,0.4,bins=1000,offset=[0.01,-0.006]);", 
      "ax=gca()", 
      "#ax.set_xlim(-0.06,0.06)", 
      "ax.set_ylim(-1.1,1.1)", 
      "ax.grid()", 
      "Cyc38.PlotHysteresis(-0.4,0.4,bins=1000,offset=[0.01,-0.006]);", 
      "ax=gca()", 
      "#ax.set_xlim(-0.06,0.06)", 
      "ax.set_ylim(-1.1,1.1)", 
      "ax.grid()"
     ], 
     "language": "python", 
     "outputs": []
    }, 
    {
     "cell_type": "code", 
     "collapsed": false, 
     "input": [
      "Cyc37[\"metadata\"]"
     ], 
     "language": "python", 
     "outputs": []
    }, 
    {
     "cell_type": "code", 
     "collapsed": false, 
     "input": [
      "import os", 
      "os.chdir(\"/home/hukadan/These/Manuscript/Resultats/MesureAimant/\")", 
      "Hist = np.loadtxt(\"hyst.txt\")", 
      "X = []", 
      "Y = []", 
      "for x in Hist :", 
      "    X.append(x[0])", 
      "    Y.append(x[1])", 
      "    ", 
      "", 
      "    ", 
      "sys.path.append(\"/home/hukadan/These/\")", 
      "from setproc.cycle_process.classes.cycle_process import CycleProcess", 
      "from setproc.common.functions.local_extrema import local_extrema", 
      "os.chdir(\"/media/Iomega_HDD/Measures/Tb2C/sample3/6R/J9/Cycle/Cycle6/\");", 
      "", 
      "#Cyc6 = CycleProcess(\"G_B_trace.json\",\"G_B_retrace.json\",[1],\"Json\");", 
      "#Cyc6.GetStat(200,4)", 
      "#Cyc6.GetValueStat()", 
      "Cyc6.SetPlotCalibration([10**-32.5,10**-27,[-0.4,0.4],-0.019])", 
      "", 
      "T, Mt, R, Mr = Cyc6.PlotHysteresis(-0.4,0.4,bins=2000,offset=[0.01,-0.006]);", 
      "    ", 
      "os.chdir(\"/media/Iomega_HDD/Measures/Tb2C/sample3/6R/J9/Cycle/Cycle37/\");", 
      "", 
      "#Cyc37 = CycleProcess(\"G_B_trace.json\",\"G_B_retrace.json\",[0],\"Json\");", 
      "#Cyc37.GetStat(200,4)", 
      "Cyc37.GetValueStat()", 
      "Cyc37.SetPlotCalibration([10**-32.5,10**-27,[-0.4,0.4],-0.019])", 
      "", 
      "T2, Mt2, R2, Mr2 = Cyc37.PlotHysteresis(-0.4,0.4,bins=2000,offset=[0.01,-0.006]);    ", 
      "    ", 
      "", 
      "fig = figure()", 
      "fig.set_size_inches(12,5.5)", 
      "ax1 = fig.add_subplot(121)", 
      "ax2 = fig.add_subplot(122)", 
      "", 
      "", 
      "", 
      "#fig a", 
      "ax1.plot(T,Mt,'b')", 
      "ax1.plot(R,Mr,'b')", 
      "ax1.set_xlim(-0.39,0.39)", 
      "ax1.set_ylim(-1.1,1.1)", 
      "", 
      "#fig b", 
      "ax2.plot(T2,Mt2,'b')", 
      "ax2.plot(R2,Mr2,'b')", 
      "ax2.set_xlim(-0.39,0.39)", 
      "ax2.set_ylim(-1.1,1.1)", 
      "", 
      "", 
      "#aspect", 
      "xmin= ax1.get_xlim()", 
      "ymin= ax1.get_ylim()", 
      "a1 = 1.0 * abs((xmin[0]-xmin[1])/(ymin[0]-ymin[1]))", 
      "", 
      "xmin= ax2.get_xlim()", 
      "ymin= ax2.get_ylim()", 
      "a2 = 1.0 * abs((xmin[0]-xmin[1])/(ymin[0]-ymin[1]))", 
      "", 
      "", 
      "", 
      "ax1.set_aspect(a1*0.8,)", 
      "ax2.set_aspect(a2*0.8,)", 
      "", 
      "ax1.grid()", 
      "ax2.grid()", 
      "", 
      "ax1.set_xlabel(\"$B$ (T)\")", 
      "ax2.set_xlabel(\"$B$ (T)\")", 
      "ax1.set_ylabel(r\"$M/M_s$\")", 
      "#ax2.set_ylabel(r\"$M/M_s$\")", 
      "ax2.yaxis.set_ticklabels([])", 
      "", 
      "fig.subplots_adjust(wspace=0.05,hspace=0.025,bottom = 0.05,top=0.98,left=0.08)#, top = 0.95, bottom = 0.08)", 
      "fig.savefig(\"/home/hukadan/These/Manuscript/Resultats/CompCrisMolUnique/CompCrisMolUnique.pdf\",dpi=600)"
     ], 
     "language": "python", 
     "outputs": []
    }, 
    {
     "cell_type": "code", 
     "collapsed": true, 
     "input": [
      "ax1.text?"
     ], 
     "language": "python", 
     "outputs": []
    }, 
    {
     "cell_type": "code", 
     "collapsed": false, 
     "input": [
      "T = Cyc38.trace[\"data\"][0]", 
      "B = Cyc38.trace[\"bias\"]", 
      "plot(B,T)"
     ], 
     "language": "python", 
     "outputs": [
      {
       "output_type": "pyout", 
       "prompt_number": 10, 
       "text": [
        "[<matplotlib.lines.Line2D at 0x6255f690>]"
       ]
      }, 
      {
       "output_type": "display_data", 
       "png": "[encoded data removed]"
      }
     ], 
     "prompt_number": 10
    }
   ]
  }
 ]
}